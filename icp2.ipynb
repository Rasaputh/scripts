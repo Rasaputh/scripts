{
  "nbformat": 4,
  "nbformat_minor": 0,
  "metadata": {
    "colab": {
      "provenance": [],
      "authorship_tag": "ABX9TyPpUC5xJIgb8pOc9S7zOgoN",
      "include_colab_link": true
    },
    "kernelspec": {
      "name": "python3",
      "display_name": "Python 3"
    },
    "language_info": {
      "name": "python"
    }
  },
  "cells": [
    {
      "cell_type": "markdown",
      "metadata": {
        "id": "view-in-github",
        "colab_type": "text"
      },
      "source": [
        "<a href=\"https://colab.research.google.com/github/Rasaputh/scripts/blob/main/icp2.ipynb\" target=\"_parent\"><img src=\"https://colab.research.google.com/assets/colab-badge.svg\" alt=\"Open In Colab\"/></a>"
      ]
    },
    {
      "cell_type": "code",
      "execution_count": null,
      "metadata": {
        "colab": {
          "base_uri": "https://localhost:8080/"
        },
        "id": "RwO4K0XgtMYu",
        "outputId": "715871b6-46f1-4213-8ab9-6943ffb26b42"
      },
      "outputs": [
        {
          "output_type": "stream",
          "name": "stdout",
          "text": [
            "Instance count: 2, Class count: 3\n",
            "Instance count: 1, Class count: 3\n"
          ]
        }
      ],
      "source": [
        "class Counter:\n",
        "    count = 0  # class variable\n",
        "\n",
        "    def __init__(self):\n",
        "        self._count = 0  # instance variable\n",
        "\n",
        "    def increment(self):\n",
        "        self._count += 1\n",
        "        Counter.count += 1\n",
        "\n",
        "    def get_counts(self):\n",
        "        return f\"Instance count: {self._count}, Class count: {Counter.count}\"\n",
        "\n",
        "a = Counter()\n",
        "b = Counter()\n",
        "\n",
        "a.increment()\n",
        "a.increment()\n",
        "b.increment()\n",
        "\n",
        "print(a.get_counts())  # Output?\n",
        "print(b.get_counts())  # Output?\n"
      ]
    },
    {
      "cell_type": "markdown",
      "source": [
        "\n",
        "1) Difference between `Counter.count` and `self._count`\n",
        "\n",
        "- **`Counter.count`** is a **class variable**:\n",
        "  - Shared by **all instances** of the `Counter` class.\n",
        "  - Any change to `Counter.count` affects every object.\n",
        "  - Think of it as a common counter for everyone.\n",
        "\n",
        "- **`self._count`** is an **instance variable**:\n",
        "  - Unique to **each individual object**.\n",
        "  - Changing `self._count` only affects that particular instance.\n",
        "  - Each object keeps its own private count.\n",
        "\n",
        "\n",
        "\n",
        " 2) Output of `a.get_counts()` and `b.get_counts()`\n",
        "\n",
        "Given the code:\n",
        "```python\n",
        "a = Counter()\n",
        "b = Counter()\n",
        "\n",
        "a.increment()\n",
        "a.increment()\n",
        "b.increment()\n",
        "\n",
        "a.get_counts() → Instance count: 2, Class count: 3\n",
        "\n",
        "b.get_counts() → Instance count: 1, Class count: 3\n",
        "\n",
        " Explanation:\n",
        "\n",
        "\n",
        "a called increment() twice → self._count for a is 2.\n",
        "\n",
        "b called increment() once → self._count for b is 1.\n",
        "\n",
        "The class variable Counter.count adds up all increments → total is 3.\n",
        "\n",
        "\n",
        "3)How does the increment method affect both the class and instance variables?\n",
        "The increment method updates both variables:\n",
        "\n",
        "self._count += 1 → increases the instance variable, so only that object’s count goes up.\n",
        "\n",
        "Counter.count += 1 → increases the class variable, so the total count for all objects goes up."
      ],
      "metadata": {
        "id": "gxgpkC3HLZxE"
      }
    },
    {
      "cell_type": "code",
      "source": [
        "def sum_all(*args):\n",
        "    return sum(args)\n",
        "\n",
        "print(\"Sum of 1, 2, 3 is:\", sum_all(1, 2, 3))\n",
        "print(\"Sum of 4, 5, 6, 7 is:\", sum_all(4, 5, 6, 7))\n"
      ],
      "metadata": {
        "colab": {
          "base_uri": "https://localhost:8080/"
        },
        "id": "xq6ZY-xvuqjk",
        "outputId": "dce633f3-0e68-4d5b-cd1c-cbc0f1f7e01b"
      },
      "execution_count": null,
      "outputs": [
        {
          "output_type": "stream",
          "name": "stdout",
          "text": [
            "Sum of 1, 2, 3 is: 6\n",
            "Sum of 4, 5, 6, 7 is: 22\n"
          ]
        }
      ]
    },
    {
      "cell_type": "code",
      "source": [
        "# Function to return the first word in alphabetical order\n",
        "def first_word(word_list):\n",
        "\n",
        "\n",
        "    word_list.sort()\n",
        "\n",
        "\n",
        "    first = word_list[0]\n",
        "\n",
        "\n",
        "    return first\n",
        "\n",
        "students = ['Mary', 'Zelda', 'Jimmy', 'Jack', 'Bartholomew', 'Gertrude']\n",
        "\n",
        "\n",
        "print(\"First word alphabetically is:\", first_word(students))\n"
      ],
      "metadata": {
        "colab": {
          "base_uri": "https://localhost:8080/"
        },
        "id": "3ayOr628veHW",
        "outputId": "89e35418-49ca-4d30-bda0-b5a2b53e92b4"
      },
      "execution_count": null,
      "outputs": [
        {
          "output_type": "stream",
          "name": "stdout",
          "text": [
            "First word alphabetically is: Bartholomew\n"
          ]
        }
      ]
    },
    {
      "cell_type": "code",
      "source": [
        "class Employee:\n",
        "    # Class variable to count the number of Employees\n",
        "    employee_count = 0\n",
        "\n",
        "    # Constructor to initialize name, family, salary, department\n",
        "    def __init__(self, name, family, salary, department):\n",
        "        self.name = name\n",
        "        self.family = family\n",
        "        self.salary = salary\n",
        "        self.department = department\n",
        "\n",
        "        # Increment the class variable when an employee is created\n",
        "        Employee.employee_count += 1\n",
        "\n",
        "    # Function to calculate average salary given a list of employees\n",
        "    @staticmethod\n",
        "    def average_salary(employees):\n",
        "        total_salary = sum(emp.salary for emp in employees)\n",
        "        return total_salary / len(employees)\n",
        "\n",
        "# FulltimeEmployee inherits from Employee\n",
        "class FulltimeEmployee(Employee):\n",
        "    pass\n",
        "\n",
        "# Create instances of Employee and FulltimeEmployee\n",
        "emp1 = Employee(\"Alice\", \"Smith\", 50000, \"HR\")\n",
        "emp2 = FulltimeEmployee(\"Bob\", \"Johnson\", 60000, \"Engineering\")\n",
        "emp3 = FulltimeEmployee(\"Charlie\", \"Brown\", 70000, \"Marketing\")\n",
        "\n",
        "# Test the class member functions\n",
        "print(f\"Total Employees: {Employee.employee_count}\")\n",
        "\n",
        "# Create a list of employees to pass to average_salary\n",
        "employee_list = [emp1, emp2, emp3]\n",
        "print(f\"Average Salary: {Employee.average_salary(employee_list)}\")\n",
        "\n",
        "# Access individual employee details\n",
        "print(f\"{emp2.name} is a full-time employee in {emp2.department} with salary {emp2.salary}\")\n",
        "print(f\"{emp3.name} is a full-time employee in {emp3.department} with salary {emp3.salary}\")\n"
      ],
      "metadata": {
        "colab": {
          "base_uri": "https://localhost:8080/"
        },
        "id": "17J6QSMXwJfz",
        "outputId": "d8e7e147-66ab-46f9-b4a1-3473b086498b"
      },
      "execution_count": null,
      "outputs": [
        {
          "output_type": "stream",
          "name": "stdout",
          "text": [
            "Total Employees: 3\n",
            "Average Salary: 60000.0\n",
            "Bob is a full-time employee in Engineering with salary 60000\n",
            "Charlie is a full-time employee in Marketing with salary 70000\n"
          ]
        }
      ]
    }
  ]
}